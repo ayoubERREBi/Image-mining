{
 "cells": [
  {
   "cell_type": "code",
   "execution_count": 38,
   "id": "16661a70",
   "metadata": {},
   "outputs": [],
   "source": [
    "import cv2\n",
    "import os\n",
    "import numpy as np\n",
    "from PIL import Image\n",
    "from sklearn.model_selection import train_test_split\n",
    "from keras.utils import normalize\n",
    "from tensorflow import keras\n",
    "import tensorflow as tf\n",
    "from keras.models import Sequential\n",
    "from keras.layers import Conv2D,MaxPooling2D\n",
    "from keras.layers import Activation,Dropout,Flatten,Dense"
   ]
  },
  {
   "cell_type": "code",
   "execution_count": 39,
   "id": "eca6f43c",
   "metadata": {},
   "outputs": [],
   "source": [
    "images_directory=\"datasets/\"\n",
    "no_tumor_images=os.listdir(images_directory+'no/')\n",
    "dataset=[]\n",
    "label=[]\n",
    "\n",
    "INPUT_SIZE=64\n",
    "# print(no_tumor_images)\n",
    "\n",
    "yes_tumor_images=os.listdir(images_directory+'yes/')\n",
    "\n",
    "# print(yes_tumor_images)"
   ]
  },
  {
   "cell_type": "code",
   "execution_count": 40,
   "id": "b0061881",
   "metadata": {},
   "outputs": [],
   "source": [
    "#chargement des images jpg chaque image \n",
    "        #va etre lu en format tableau numpy ensuit \n",
    "        # va convertir une image\n",
    "        # enfin va redimentionner et charge dans DSet\n",
    "for i,image_name in enumerate(no_tumor_images):\n",
    "    if(image_name.split('.')[1]=='jpg'):\n",
    "        image=cv2.imread(images_directory+'no/'+image_name)\n",
    "        image=Image.fromarray(image,'RGB') #pour utiliser pillow on peux l'evite \n",
    "        image=image.resize((INPUT_SIZE,INPUT_SIZE))\n",
    "        dataset.append(np.array(image))\n",
    "        label.append(0)"
   ]
  },
  {
   "cell_type": "code",
   "execution_count": 41,
   "id": "fb192110",
   "metadata": {},
   "outputs": [],
   "source": [
    "for i,image_name in enumerate(yes_tumor_images):\n",
    "    if(image_name.split('.')[1]=='jpg'):\n",
    "        image=cv2.imread(images_directory+'yes/'+image_name)\n",
    "        image=Image.fromarray(image,'RGB')\n",
    "        image=image.resize((INPUT_SIZE,INPUT_SIZE))\n",
    "        dataset.append(np.array(image))\n",
    "        label.append(1)"
   ]
  },
  {
   "cell_type": "code",
   "execution_count": 21,
   "id": "7201540d",
   "metadata": {},
   "outputs": [
    {
     "name": "stdout",
     "output_type": "stream",
     "text": [
      "3000\n",
      "3000\n"
     ]
    }
   ],
   "source": [
    "print(len(dataset))\n",
    "print(len(label))"
   ]
  },
  {
   "cell_type": "code",
   "execution_count": 42,
   "id": "9353d2df",
   "metadata": {},
   "outputs": [
    {
     "name": "stdout",
     "output_type": "stream",
     "text": [
      "(2400, 64, 64, 3)\n"
     ]
    }
   ],
   "source": [
    "dataset=np.array(dataset)\n",
    "label=np.array(label)\n",
    "\n",
    "x_train,x_test,y_train,y_test=train_test_split(dataset,label,test_size=0.2,random_state=0)\n",
    "\n",
    "print(x_train.shape)"
   ]
  },
  {
   "cell_type": "code",
   "execution_count": 43,
   "id": "77826c5e",
   "metadata": {},
   "outputs": [],
   "source": [
    "x_train=normalize(x_train,axis=1)\n",
    "x_test=normalize(x_test,axis=1)"
   ]
  },
  {
   "cell_type": "code",
   "execution_count": 44,
   "id": "0de1dbc0",
   "metadata": {},
   "outputs": [
    {
     "name": "stdout",
     "output_type": "stream",
     "text": [
      "Epoch 1/10\n",
      "150/150 [==============================] - 16s 82ms/step - loss: 0.5566 - accuracy: 0.7188 - val_loss: 0.4557 - val_accuracy: 0.8000\n",
      "Epoch 2/10\n",
      "150/150 [==============================] - 13s 84ms/step - loss: 0.4137 - accuracy: 0.8304 - val_loss: 0.4063 - val_accuracy: 0.8167\n",
      "Epoch 3/10\n",
      "150/150 [==============================] - 13s 86ms/step - loss: 0.3325 - accuracy: 0.8596 - val_loss: 0.3043 - val_accuracy: 0.8717\n",
      "Epoch 4/10\n",
      "150/150 [==============================] - 12s 83ms/step - loss: 0.2574 - accuracy: 0.8975 - val_loss: 0.2559 - val_accuracy: 0.9017\n",
      "Epoch 5/10\n",
      "150/150 [==============================] - 13s 87ms/step - loss: 0.1887 - accuracy: 0.9250 - val_loss: 0.2178 - val_accuracy: 0.9183\n",
      "Epoch 6/10\n",
      "150/150 [==============================] - 12s 83ms/step - loss: 0.1388 - accuracy: 0.9504 - val_loss: 0.1859 - val_accuracy: 0.9400\n",
      "Epoch 7/10\n",
      "150/150 [==============================] - 12s 82ms/step - loss: 0.0982 - accuracy: 0.9688 - val_loss: 0.1455 - val_accuracy: 0.9567\n",
      "Epoch 8/10\n",
      "150/150 [==============================] - 12s 82ms/step - loss: 0.0760 - accuracy: 0.9742 - val_loss: 0.1364 - val_accuracy: 0.9700\n",
      "Epoch 9/10\n",
      "150/150 [==============================] - 12s 82ms/step - loss: 0.0523 - accuracy: 0.9846 - val_loss: 0.0992 - val_accuracy: 0.9717\n",
      "Epoch 10/10\n",
      "150/150 [==============================] - 13s 85ms/step - loss: 0.0377 - accuracy: 0.9879 - val_loss: 0.0886 - val_accuracy: 0.9750\n"
     ]
    }
   ],
   "source": [
    "#Model Building\n",
    "\n",
    "model=Sequential()\n",
    "\n",
    "model.add(Conv2D(32,(3,3),input_shape=(INPUT_SIZE,INPUT_SIZE,3)))\n",
    "model.add(Activation('relu'))\n",
    "model.add(MaxPooling2D(pool_size=(2,2)))\n",
    "\n",
    "model.add(Conv2D(32,(3,3),kernel_initializer='he_uniform'))\n",
    "model.add(Activation('relu'))\n",
    "model.add(MaxPooling2D(pool_size=(2,2)))\n",
    "\n",
    "model.add(Conv2D(32,(3,3),kernel_initializer='he_uniform'))\n",
    "model.add(Activation('relu'))\n",
    "model.add(MaxPooling2D(pool_size=(2,2)))\n",
    "\n",
    "model.add(Flatten())\n",
    "model.add(Dense(64))\n",
    "model.add(Activation('relu'))\n",
    "model.add(Dropout(0.5))\n",
    "model.add(Dense(1))\n",
    "model.add(Activation('sigmoid')) #essayer avec softmax\n",
    "\n",
    "model.compile(loss='binary_crossentropy',optimizer='adam',metrics=['accuracy'])\n",
    "model.fit(x_train,y_train,\n",
    "          batch_size=16,verbose=1,epochs=10,\n",
    "         validation_data=(x_test,y_test),\n",
    "         shuffle=False)\n",
    "model.save('BrainTumorDetection.h5')"
   ]
  },
  {
   "cell_type": "code",
   "execution_count": 57,
   "id": "326ac764",
   "metadata": {},
   "outputs": [
    {
     "name": "stdout",
     "output_type": "stream",
     "text": [
      "1/1 [==============================] - 0s 20ms/step\n",
      "[[0.]]\n"
     ]
    }
   ],
   "source": [
    "#tester avec une image sur le web voir le fichier de teste elementaire \n",
    "imageP=cv2.imread('no_tumor.jpg')\n",
    "imageP=Image.fromarray(imageP,'RGB') \n",
    "# Convertir l'image PIL en tableau numpy\n",
    "image_array = np.array(imageP)\n",
    "\n",
    "# Redimensionner l'image si nécessaire\n",
    "image_array = cv2.resize(image_array, (INPUT_SIZE, INPUT_SIZE))\n",
    "\n",
    "# Ajouter une dimension supplémentaire pour représenter le lot (batch) si nécessaire\n",
    "image_array = np.expand_dims(image_array, axis=0)\n",
    "\n",
    "# Faire la prédiction\n",
    "prediction = model.predict(image_array)\n",
    "print(prediction)"
   ]
  },
  {
   "cell_type": "code",
   "execution_count": null,
   "id": "3e08558c",
   "metadata": {},
   "outputs": [],
   "source": []
  }
 ],
 "metadata": {
  "kernelspec": {
   "display_name": "Python 3 (ipykernel)",
   "language": "python",
   "name": "python3"
  },
  "language_info": {
   "codemirror_mode": {
    "name": "ipython",
    "version": 3
   },
   "file_extension": ".py",
   "mimetype": "text/x-python",
   "name": "python",
   "nbconvert_exporter": "python",
   "pygments_lexer": "ipython3",
   "version": "3.9.13"
  }
 },
 "nbformat": 4,
 "nbformat_minor": 5
}

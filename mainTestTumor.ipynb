{
 "cells": [
  {
   "cell_type": "code",
   "execution_count": 16,
   "id": "1be56e81",
   "metadata": {},
   "outputs": [],
   "source": [
    "import cv2\n",
    "from keras.models import load_model\n",
    "from PIL import Image\n",
    "import numpy as np\n",
    "\n",
    "model=load_model('BrainTumorDetection.h5')"
   ]
  },
  {
   "cell_type": "code",
   "execution_count": 23,
   "id": "55c142a9",
   "metadata": {},
   "outputs": [
    {
     "name": "stdout",
     "output_type": "stream",
     "text": [
      "1/1 [==============================] - 0s 18ms/step\n",
      "[[0.]]\n"
     ]
    }
   ],
   "source": [
    "image=cv2.imread('pred\\pred0.jpg') #5 yes\n",
    "image=Image.fromarray(image)\n",
    "image=image.resize((64,64))\n",
    "image=np.array(image)\n",
    "input_image=np.expand_dims(image,axis=0)\n",
    "result=model.predict(input_image)\n",
    "print(result)"
   ]
  }
 ],
 "metadata": {
  "kernelspec": {
   "display_name": "Python 3 (ipykernel)",
   "language": "python",
   "name": "python3"
  },
  "language_info": {
   "codemirror_mode": {
    "name": "ipython",
    "version": 3
   },
   "file_extension": ".py",
   "mimetype": "text/x-python",
   "name": "python",
   "nbconvert_exporter": "python",
   "pygments_lexer": "ipython3",
   "version": "3.9.13"
  }
 },
 "nbformat": 4,
 "nbformat_minor": 5
}
